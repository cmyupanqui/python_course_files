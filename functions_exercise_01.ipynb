{
 "cells": [
  {
   "cell_type": "code",
   "execution_count": 1,
   "id": "7e9c2544",
   "metadata": {},
   "outputs": [],
   "source": [
    "# Story: Print Welcome message for each ELC Member"
   ]
  },
  {
   "cell_type": "code",
   "execution_count": 2,
   "id": "61722af9",
   "metadata": {},
   "outputs": [],
   "source": [
    "# the elegant function"
   ]
  },
  {
   "cell_type": "code",
   "execution_count": null,
   "id": "50298af6",
   "metadata": {},
   "outputs": [],
   "source": [
    "    print(\"Hello World from the greeting function\")\n"
   ]
  },
  {
   "cell_type": "code",
   "execution_count": 3,
   "id": "688cd638",
   "metadata": {},
   "outputs": [],
   "source": [
    "# 1. Create a list of ELC members\n",
    "# 2. Create a function "
   ]
  },
  {
   "cell_type": "code",
   "execution_count": 8,
   "id": "26df576f",
   "metadata": {},
   "outputs": [],
   "source": [
    "# 1. Create a list of ELC members\n",
    "elc_members_names = [\"rocio cerbon\",\"july angeles\",\"montse arenas\",\"diego ugalde\",\"liliana torres\",\"ana haza\",\n",
    "                     \"sofia mejia\",\"vicky cabral\",\"carlos yupanqui\",\"gerry reynoso\",\"pri biswas\",\"z qiu\"]"
   ]
  },
  {
   "cell_type": "code",
   "execution_count": 20,
   "id": "dc0ebec6",
   "metadata": {},
   "outputs": [],
   "source": [
    "# 2. Create a function\n",
    "def greeting_2(fullname_list):\n",
    "    #print(fullname_list)\n",
    "    #iterate over the list\n",
    "    for name in fullname_list:\n",
    "        print(f\"Hi {name}, welcome to ML Ops team!\")"
   ]
  },
  {
   "cell_type": "code",
   "execution_count": 21,
   "id": "fd637ddc",
   "metadata": {},
   "outputs": [
    {
     "name": "stdout",
     "output_type": "stream",
     "text": [
      "Hi rocio cerbon, welcome to ML Ops team!\n",
      "Hi july angeles, welcome to ML Ops team!\n",
      "Hi montse arenas, welcome to ML Ops team!\n",
      "Hi diego ugalde, welcome to ML Ops team!\n",
      "Hi liliana torres, welcome to ML Ops team!\n",
      "Hi ana haza, welcome to ML Ops team!\n",
      "Hi sofia mejia, welcome to ML Ops team!\n",
      "Hi vicky cabral, welcome to ML Ops team!\n",
      "Hi carlos yupanqui, welcome to ML Ops team!\n",
      "Hi gerry reynoso, welcome to ML Ops team!\n",
      "Hi pri biswas, welcome to ML Ops team!\n",
      "Hi z qiu, welcome to ML Ops team!\n"
     ]
    }
   ],
   "source": [
    "greeting_2(elc_members_names)"
   ]
  },
  {
   "cell_type": "code",
   "execution_count": null,
   "id": "65926ddb",
   "metadata": {},
   "outputs": [],
   "source": []
  }
 ],
 "metadata": {
  "kernelspec": {
   "display_name": "Python 3 (ipykernel)",
   "language": "python",
   "name": "python3"
  },
  "language_info": {
   "codemirror_mode": {
    "name": "ipython",
    "version": 3
   },
   "file_extension": ".py",
   "mimetype": "text/x-python",
   "name": "python",
   "nbconvert_exporter": "python",
   "pygments_lexer": "ipython3",
   "version": "3.9.12"
  }
 },
 "nbformat": 4,
 "nbformat_minor": 5
}
