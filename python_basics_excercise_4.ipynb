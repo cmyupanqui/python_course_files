{
 "cells": [
  {
   "cell_type": "markdown",
   "id": "ec24e5fb",
   "metadata": {},
   "source": [
    "## If, elif, else and loops excercises"
   ]
  },
  {
   "cell_type": "markdown",
   "id": "1826e339",
   "metadata": {},
   "source": [
    "### Excercise 1\n",
    "\n",
    "1. Create a list of Espressive members.\n",
    "\n",
    "e.g\n",
    "\n",
    "espressive_members = [\"Rocio\",\"July\",\"Montse\",\"Becca\",\"Diego\",\"Liliana\",\"Ana\",\"Sofia\",\"Vale\",\"Vicky\",\"Carlos\", \"Gerry\"]\n",
    "\n",
    "Possible possition:\n",
    "\n",
    "- Conversational AI Analyst\n",
    "- Technical Writer\n",
    "- Sales Development Representative\n",
    "- HR Generalist\n",
    "\n",
    "Espressive crew\n",
    "\n",
    "- ELC\n",
    "- Sales\n",
    "- Administration\n",
    "\n",
    "\n",
    "2. Using a loop to iterate over the list:\n",
    "\n",
    "    A) print the correspondent possition for each member\n",
    "    \n",
    "    B) create rules to print the correspondent espressive crew depending on the members"
   ]
  },
  {
   "cell_type": "code",
   "execution_count": 36,
   "id": "6eeb3bbd",
   "metadata": {},
   "outputs": [],
   "source": [
    "espressive_members = [\"Rocio\",\"July\",\"Montse\",\"Becca\",\"Diego\",\"Liliana\",\"Ana\",\"Sofia\",\"Vale\",\"Vicky\",\"Carlos\", \"Gerry\"]\n",
    "espressive_dept = [\"ELC\",\"Sales\",\"Admin\"]\n",
    "espressive_role = [\"Conversational AI Analyst\",\"Technical Writer\",\"SDR\",\"HR Generalist\"]\n",
    "\n",
    "\n"
   ]
  },
  {
   "cell_type": "code",
   "execution_count": 23,
   "id": "0ed660f4",
   "metadata": {},
   "outputs": [
    {
     "name": "stdout",
     "output_type": "stream",
     "text": [
      "Rocio, ELC - Conv AI Analyst\n",
      "July, ELC - Conv AI Analyst\n",
      "Montse, ELC - Technical Writer\n",
      "Becca, Sales - SDR\n",
      "end of loop\n"
     ]
    }
   ],
   "source": [
    "for member in espressive_members:\n",
    "    if member == \"Rocio\":\n",
    "        print (\"Rocio, ELC - Conv AI Analyst\")\n",
    "    if member == \"July\":\n",
    "        print (\"July, ELC - Conv AI Analyst\")\n",
    "    if member == \"Montse\":\n",
    "        print (\"Montse, ELC - Technical Writer\")\n",
    "    if member ==  \"Becca\":\n",
    "        print (\"Becca, Sales - SDR\")\n",
    "    \n",
    "    \n",
    "else:\n",
    "    print (\"end of loop\")"
   ]
  },
  {
   "cell_type": "code",
   "execution_count": 38,
   "id": "c6b61259",
   "metadata": {},
   "outputs": [
    {
     "name": "stdout",
     "output_type": "stream",
     "text": [
      "Rocio, ELC - Conversational AI Analyst\n",
      "July, ELC - Conversational AI Analyst\n",
      "Montse, ELC - Technical Writer\n",
      "Becca, Sales - SDR\n",
      "Diego, ELC - Technical Writer\n",
      "Liliana, ELC - Conversational AI Analyst\n",
      "Ana, ELC - Conversational AI Analyst\n",
      "Sofia, ELC - Conversational AI Analyst\n",
      "Vale, Admin - HR Generalist\n",
      "Vicky, ELC - Technical Writer\n",
      "Carlos, ELC - Conversational AI Analyst\n",
      "Gerry, ELC - PowerBI & Excel Guru\n",
      "End of loop\n"
     ]
    }
   ],
   "source": [
    "for member in espressive_members:\n",
    "    if member == \"Rocio\" or member == \"July\" or member == \"Liliana\" or member == \"Ana\" or member == \"Sofia\" or member == \"Carlos\":\n",
    "        print(f\"{member}, ELC - Conversational AI Analyst\")\n",
    "        \n",
    "    if member == \"Vicky\" or member == \"Montse\" or member == \"Diego\":\n",
    "        print(f\"{member}, ELC - Technical Writer\")\n",
    "        \n",
    "    if member == \"Gerry\":\n",
    "        print(f\"{member}, ELC - PowerBI & Excel Guru\")\n",
    "    if member == \"Vale\":\n",
    "        print(f\"{member}, Admin - HR Generalist\")\n",
    "    if member == \"Becca\":\n",
    "        print(f\"{member}, Sales - SDR\")\n",
    "              \n",
    "else:\n",
    "    print (\"End of loop\")"
   ]
  },
  {
   "cell_type": "markdown",
   "id": "a934a54d",
   "metadata": {},
   "source": [
    "### Excercise 2\n",
    "\n",
    "\"I cannot install Teams\"\n",
    "\n",
    "1. Stored the String in a variable\n",
    "\n",
    "2. Create a list from a that string\n",
    "\n",
    "3. Using position assign the list items to values to the correspondent keys in the dictionary \"Parsed interaction\"\n",
    "\n",
    "parsed_interaction = {\"aux_verb\":\"\",verb\":\"\",\"app\":\"\"}\n",
    "\n",
    "4. Create an algorithm that interate over the dictionary and create the following constrains:\n",
    "\n",
    "    a) diffenciate 'cannot'/'can', each one has to lead to a different intent\n",
    "    \n",
    "    b) differentiate 'install'/'unistall' each one has to lead to a different intent\n",
    "    \n",
    "    c) differentiate 'Teams'/'Zoom'/'google meet' each one has to lead to a different intent\n"
   ]
  },
  {
   "cell_type": "code",
   "execution_count": null,
   "id": "e2a7a2d8",
   "metadata": {},
   "outputs": [],
   "source": [
    "## Functions"
   ]
  },
  {
   "cell_type": "code",
   "execution_count": 5,
   "id": "063ced36",
   "metadata": {},
   "outputs": [],
   "source": [
    "# Function definition\n",
    "def greeting():\n",
    "    #here's the code for this function\n",
    "    print(\"Hello World from the greeting function\")\n",
    "    "
   ]
  },
  {
   "cell_type": "code",
   "execution_count": 6,
   "id": "51481dd3",
   "metadata": {},
   "outputs": [
    {
     "name": "stdout",
     "output_type": "stream",
     "text": [
      "Hello World from the greeting function\n"
     ]
    }
   ],
   "source": [
    "# Calling the function\n",
    "greeting()"
   ]
  },
  {
   "cell_type": "code",
   "execution_count": 1,
   "id": "9a2e3c88",
   "metadata": {},
   "outputs": [],
   "source": [
    "# Function with arguments definition\n",
    "def greeting_2(name,lastname):\n",
    "    print(f\"Hello world, I'm {name} {lastname}\")"
   ]
  },
  {
   "cell_type": "code",
   "execution_count": 2,
   "id": "0fa27709",
   "metadata": {},
   "outputs": [
    {
     "name": "stdout",
     "output_type": "stream",
     "text": [
      "Hello world, I'm Carlos Yupanqui\n"
     ]
    }
   ],
   "source": [
    "greeting_2(\"Carlos\",\"Yupanqui\")"
   ]
  },
  {
   "cell_type": "code",
   "execution_count": 3,
   "id": "60232106",
   "metadata": {},
   "outputs": [],
   "source": [
    "name = \"Carlos\""
   ]
  },
  {
   "cell_type": "code",
   "execution_count": 4,
   "id": "3fb849c9",
   "metadata": {},
   "outputs": [
    {
     "data": {
      "text/plain": [
       "6"
      ]
     },
     "execution_count": 4,
     "metadata": {},
     "output_type": "execute_result"
    }
   ],
   "source": [
    "len(name)"
   ]
  },
  {
   "cell_type": "code",
   "execution_count": null,
   "id": "71857cb4",
   "metadata": {},
   "outputs": [],
   "source": [
    "# Efficiency"
   ]
  },
  {
   "cell_type": "code",
   "execution_count": null,
   "id": "4a749730",
   "metadata": {},
   "outputs": [],
   "source": [
    "# 1. "
   ]
  }
 ],
 "metadata": {
  "kernelspec": {
   "display_name": "Python 3 (ipykernel)",
   "language": "python",
   "name": "python3"
  },
  "language_info": {
   "codemirror_mode": {
    "name": "ipython",
    "version": 3
   },
   "file_extension": ".py",
   "mimetype": "text/x-python",
   "name": "python",
   "nbconvert_exporter": "python",
   "pygments_lexer": "ipython3",
   "version": "3.9.12"
  }
 },
 "nbformat": 4,
 "nbformat_minor": 5
}
