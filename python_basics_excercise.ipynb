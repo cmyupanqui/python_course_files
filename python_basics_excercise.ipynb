{
 "cells": [
  {
   "cell_type": "markdown",
   "id": "6f62232f",
   "metadata": {},
   "source": [
    "1. Answer these 3 questions without typing code. Then type code to check your answer.\n",
    "\n",
    "What is the value of the expression 4 * (6 + 5)\n",
    "\n",
    "What is the value of the expression 4 * 6 + 5 \n",
    "\n",
    "What is the value of the expression 4 + 6 * 5 "
   ]
  },
  {
   "cell_type": "markdown",
   "id": "303f3709",
   "metadata": {},
   "source": [
    "2. Store each result in a variable and obtain the data type"
   ]
  },
  {
   "cell_type": "markdown",
   "id": "85dee4cf",
   "metadata": {},
   "source": [
    "\n",
    "3. Print out 'e' using indexing\n",
    "\n",
    "s = \"hello\"\n"
   ]
  },
  {
   "cell_type": "markdown",
   "id": "e41341df",
   "metadata": {},
   "source": [
    "4. Reverse the string using slicing"
   ]
  },
  {
   "cell_type": "markdown",
   "id": "0a5fa8e7",
   "metadata": {},
   "source": [
    "5. Print out the 'o'\n",
    "\n",
    "   Method 1:\n",
    "   \n",
    "   Method 2:"
   ]
  },
  {
   "cell_type": "markdown",
   "id": "32d7f048",
   "metadata": {},
   "source": [
    "Variable:"
   ]
  },
  {
   "cell_type": "code",
   "execution_count": 5,
   "id": "8e2ad70a",
   "metadata": {},
   "outputs": [],
   "source": [
    "my_name = \"Reasign it with your full name\""
   ]
  },
  {
   "cell_type": "markdown",
   "id": "2cc9e0d5",
   "metadata": {},
   "source": [
    "6 . Reassign the variable"
   ]
  },
  {
   "cell_type": "markdown",
   "id": "e5ce7837",
   "metadata": {},
   "source": [
    "7.Transform it to upper case"
   ]
  },
  {
   "cell_type": "markdown",
   "id": "10b443a0",
   "metadata": {},
   "source": [
    "8.Transform it to lower case\n"
   ]
  },
  {
   "cell_type": "markdown",
   "id": "c0928bcc",
   "metadata": {},
   "source": [
    "9.Reassign the variable with a list of your name by splitting it"
   ]
  },
  {
   "cell_type": "markdown",
   "id": "34b90d56",
   "metadata": {},
   "source": [
    "10.Variables containing numbers are mutable?"
   ]
  },
  {
   "cell_type": "markdown",
   "id": "c970a164",
   "metadata": {},
   "source": [
    "11.Variables containing strings are inmutable?"
   ]
  },
  {
   "cell_type": "code",
   "execution_count": null,
   "id": "2b21b650",
   "metadata": {},
   "outputs": [],
   "source": []
  }
 ],
 "metadata": {
  "kernelspec": {
   "display_name": "Python 3 (ipykernel)",
   "language": "python",
   "name": "python3"
  },
  "language_info": {
   "codemirror_mode": {
    "name": "ipython",
    "version": 3
   },
   "file_extension": ".py",
   "mimetype": "text/x-python",
   "name": "python",
   "nbconvert_exporter": "python",
   "pygments_lexer": "ipython3",
   "version": "3.9.12"
  }
 },
 "nbformat": 4,
 "nbformat_minor": 5
}
