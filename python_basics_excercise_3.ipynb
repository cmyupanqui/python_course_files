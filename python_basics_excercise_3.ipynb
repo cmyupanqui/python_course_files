{
 "cells": [
  {
   "cell_type": "markdown",
   "id": "c5cf9d51",
   "metadata": {},
   "source": [
    "## Exercises: List and Dictionaries\n"
   ]
  },
  {
   "cell_type": "markdown",
   "id": "57176668",
   "metadata": {},
   "source": [
    "1. Create a Python list of strings"
   ]
  },
  {
   "cell_type": "markdown",
   "id": "5035563f",
   "metadata": {},
   "source": [
    "2. Create a Python list of numbers"
   ]
  },
  {
   "cell_type": "markdown",
   "id": "1bfdaaec",
   "metadata": {},
   "source": [
    "3. Create a Python list with duplicate values\n"
   ]
  },
  {
   "cell_type": "markdown",
   "id": "d188ef4d",
   "metadata": {},
   "source": [
    "4. Create a Python list that contains different data type values\n"
   ]
  },
  {
   "cell_type": "markdown",
   "id": "016c3ff9",
   "metadata": {},
   "source": [
    "5. Create a Python list and find the length of a list in Python\n"
   ]
  },
  {
   "cell_type": "markdown",
   "id": "bdf331ab",
   "metadata": {},
   "source": [
    "6. Finding the index of items in a Python list\n"
   ]
  },
  {
   "cell_type": "code",
   "execution_count": 18,
   "id": "88af277a",
   "metadata": {},
   "outputs": [],
   "source": [
    "fruits = [\"apple\",\"banana\",\"mango\"]"
   ]
  },
  {
   "cell_type": "code",
   "execution_count": 1,
   "id": "ed02976c",
   "metadata": {},
   "outputs": [],
   "source": [
    "stationery =[\"washi tape\",\"stickers\",\"markers\",\"Fountain Pen\"]"
   ]
  },
  {
   "cell_type": "code",
   "execution_count": 3,
   "id": "1aac0c88",
   "metadata": {},
   "outputs": [
    {
     "data": {
      "text/plain": [
       "['washi tape', 'stickers', 'markers', 'Fountain Pen']"
      ]
     },
     "execution_count": 3,
     "metadata": {},
     "output_type": "execute_result"
    }
   ],
   "source": [
    "stationery"
   ]
  },
  {
   "cell_type": "code",
   "execution_count": 2,
   "id": "b6821d9f",
   "metadata": {},
   "outputs": [],
   "source": [
    "games =[1,2,3,4,5]"
   ]
  },
  {
   "cell_type": "code",
   "execution_count": 4,
   "id": "63693de2",
   "metadata": {},
   "outputs": [
    {
     "data": {
      "text/plain": [
       "[1, 2, 3, 4, 5]"
      ]
     },
     "execution_count": 4,
     "metadata": {},
     "output_type": "execute_result"
    }
   ],
   "source": [
    "games"
   ]
  },
  {
   "cell_type": "code",
   "execution_count": 6,
   "id": "0f3a8980",
   "metadata": {},
   "outputs": [],
   "source": [
    "games_won = [1,2,2,3,5]"
   ]
  },
  {
   "cell_type": "code",
   "execution_count": 7,
   "id": "dd59f777",
   "metadata": {},
   "outputs": [
    {
     "data": {
      "text/plain": [
       "[1, 2, 2, 3, 5]"
      ]
     },
     "execution_count": 7,
     "metadata": {},
     "output_type": "execute_result"
    }
   ],
   "source": [
    "games_won"
   ]
  },
  {
   "cell_type": "code",
   "execution_count": 2,
   "id": "12a15b92",
   "metadata": {},
   "outputs": [],
   "source": [
    "grocery = [\"eggs\",12,\"strawberries\", 5,\"bread\",1,stationery]"
   ]
  },
  {
   "cell_type": "code",
   "execution_count": 3,
   "id": "ce41b8a8",
   "metadata": {},
   "outputs": [
    {
     "data": {
      "text/plain": [
       "['eggs',\n",
       " 12,\n",
       " 'strawberries',\n",
       " 5,\n",
       " 'bread',\n",
       " 1,\n",
       " ['washi tape', 'stickers', 'markers', 'Fountain Pen']]"
      ]
     },
     "execution_count": 3,
     "metadata": {},
     "output_type": "execute_result"
    }
   ],
   "source": [
    "grocery"
   ]
  },
  {
   "cell_type": "code",
   "execution_count": 6,
   "id": "4019aa78",
   "metadata": {},
   "outputs": [
    {
     "data": {
      "text/plain": [
       "'markers'"
      ]
     },
     "execution_count": 6,
     "metadata": {},
     "output_type": "execute_result"
    }
   ],
   "source": [
    "grocery[6][2]"
   ]
  },
  {
   "cell_type": "code",
   "execution_count": 20,
   "id": "75e569bf",
   "metadata": {},
   "outputs": [
    {
     "data": {
      "text/plain": [
       "7"
      ]
     },
     "execution_count": 20,
     "metadata": {},
     "output_type": "execute_result"
    }
   ],
   "source": [
    "len(grocery)"
   ]
  },
  {
   "cell_type": "code",
   "execution_count": 10,
   "id": "16efb942",
   "metadata": {},
   "outputs": [],
   "source": [
    "monday = 1"
   ]
  },
  {
   "cell_type": "code",
   "execution_count": 13,
   "id": "d4546d4f",
   "metadata": {},
   "outputs": [],
   "source": [
    "monday = \"I hate mondays\""
   ]
  },
  {
   "cell_type": "code",
   "execution_count": 11,
   "id": "adafe660",
   "metadata": {},
   "outputs": [
    {
     "data": {
      "text/plain": [
       "int"
      ]
     },
     "execution_count": 11,
     "metadata": {},
     "output_type": "execute_result"
    }
   ],
   "source": [
    "type(monday)"
   ]
  },
  {
   "cell_type": "code",
   "execution_count": 14,
   "id": "40d97868",
   "metadata": {},
   "outputs": [
    {
     "data": {
      "text/plain": [
       "14"
      ]
     },
     "execution_count": 14,
     "metadata": {},
     "output_type": "execute_result"
    }
   ],
   "source": [
    "len(monday)"
   ]
  },
  {
   "cell_type": "code",
   "execution_count": 13,
   "id": "f732c52a",
   "metadata": {},
   "outputs": [],
   "source": [
    "# How can you know the index of an item in a list?"
   ]
  },
  {
   "cell_type": "code",
   "execution_count": 27,
   "id": "b0d2eff9",
   "metadata": {},
   "outputs": [
    {
     "data": {
      "text/plain": [
       "2"
      ]
     },
     "execution_count": 27,
     "metadata": {},
     "output_type": "execute_result"
    }
   ],
   "source": [
    "grocery.index(\"strawberries\")"
   ]
  },
  {
   "cell_type": "code",
   "execution_count": 14,
   "id": "5ea9cbe3",
   "metadata": {},
   "outputs": [],
   "source": [
    "# Create a variable with the index value of \"banana\" and \"apple\"\n",
    "\n",
    "# Use method print and print the variable values you just created"
   ]
  },
  {
   "cell_type": "code",
   "execution_count": 16,
   "id": "9b07b5d5",
   "metadata": {},
   "outputs": [],
   "source": [
    "cool_fruits = []"
   ]
  },
  {
   "cell_type": "code",
   "execution_count": 42,
   "id": "56e9c40d",
   "metadata": {},
   "outputs": [],
   "source": [
    "cool_fruits.append(fruits.index(\"banana\"))"
   ]
  },
  {
   "cell_type": "code",
   "execution_count": 43,
   "id": "8372c643",
   "metadata": {},
   "outputs": [
    {
     "data": {
      "text/plain": [
       "[1]"
      ]
     },
     "execution_count": 43,
     "metadata": {},
     "output_type": "execute_result"
    }
   ],
   "source": [
    "cool_fruits"
   ]
  },
  {
   "cell_type": "code",
   "execution_count": 44,
   "id": "e3e2e1cc",
   "metadata": {},
   "outputs": [],
   "source": [
    "cool_fruits.append(fruits.index(\"apple\"))"
   ]
  },
  {
   "cell_type": "code",
   "execution_count": 45,
   "id": "69e0fd02",
   "metadata": {},
   "outputs": [
    {
     "data": {
      "text/plain": [
       "[1, 0]"
      ]
     },
     "execution_count": 45,
     "metadata": {},
     "output_type": "execute_result"
    }
   ],
   "source": [
    "cool_fruits"
   ]
  },
  {
   "cell_type": "code",
   "execution_count": 24,
   "id": "00548f33",
   "metadata": {},
   "outputs": [
    {
     "data": {
      "text/plain": [
       "['banana', 'banana']"
      ]
     },
     "execution_count": 24,
     "metadata": {},
     "output_type": "execute_result"
    }
   ],
   "source": [
    "cool_fruits"
   ]
  },
  {
   "cell_type": "code",
   "execution_count": 23,
   "id": "58a52c36",
   "metadata": {},
   "outputs": [],
   "source": [
    "cool_fruits.append(fruits[1])"
   ]
  },
  {
   "cell_type": "code",
   "execution_count": null,
   "id": "dae64f7a",
   "metadata": {},
   "outputs": [],
   "source": []
  },
  {
   "cell_type": "code",
   "execution_count": 47,
   "id": "c1f15b87",
   "metadata": {},
   "outputs": [],
   "source": [
    "pythonList = [\"p\",\"y\",\"t\",\"h\",\"o\",\"n\"]"
   ]
  },
  {
   "cell_type": "code",
   "execution_count": 6,
   "id": "042ee8b0",
   "metadata": {},
   "outputs": [],
   "source": [
    "# to get the 1st item"
   ]
  },
  {
   "cell_type": "code",
   "execution_count": 49,
   "id": "083f491b",
   "metadata": {},
   "outputs": [
    {
     "data": {
      "text/plain": [
       "'p'"
      ]
     },
     "execution_count": 49,
     "metadata": {},
     "output_type": "execute_result"
    }
   ],
   "source": [
    "pythonList[0]"
   ]
  },
  {
   "cell_type": "code",
   "execution_count": 7,
   "id": "1a711732",
   "metadata": {},
   "outputs": [],
   "source": [
    "#to get the 4th item"
   ]
  },
  {
   "cell_type": "code",
   "execution_count": 50,
   "id": "c8537eb1",
   "metadata": {},
   "outputs": [
    {
     "data": {
      "text/plain": [
       "'h'"
      ]
     },
     "execution_count": 50,
     "metadata": {},
     "output_type": "execute_result"
    }
   ],
   "source": [
    "pythonList[3]"
   ]
  },
  {
   "cell_type": "code",
   "execution_count": 8,
   "id": "5eaf4616",
   "metadata": {},
   "outputs": [],
   "source": [
    "# Negative indexing to get last item"
   ]
  },
  {
   "cell_type": "code",
   "execution_count": 51,
   "id": "1bff7350",
   "metadata": {},
   "outputs": [
    {
     "data": {
      "text/plain": [
       "'n'"
      ]
     },
     "execution_count": 51,
     "metadata": {},
     "output_type": "execute_result"
    }
   ],
   "source": [
    "pythonList[-1]"
   ]
  },
  {
   "cell_type": "code",
   "execution_count": 9,
   "id": "37698fb9",
   "metadata": {},
   "outputs": [],
   "source": [
    "# To get second last item"
   ]
  },
  {
   "cell_type": "code",
   "execution_count": 52,
   "id": "c5d1b63b",
   "metadata": {},
   "outputs": [
    {
     "data": {
      "text/plain": [
       "'o'"
      ]
     },
     "execution_count": 52,
     "metadata": {},
     "output_type": "execute_result"
    }
   ],
   "source": [
    "pythonList[-2]"
   ]
  },
  {
   "cell_type": "markdown",
   "id": "6d2c3fa1",
   "metadata": {},
   "source": [
    "## Slicing"
   ]
  },
  {
   "cell_type": "code",
   "execution_count": 25,
   "id": "873c5784",
   "metadata": {},
   "outputs": [],
   "source": [
    "myList = ['p','y','t','h','o','n','i','s','t','a']"
   ]
  },
  {
   "cell_type": "code",
   "execution_count": 16,
   "id": "0fe55deb",
   "metadata": {},
   "outputs": [],
   "source": [
    "# elements from 5 to 8"
   ]
  },
  {
   "cell_type": "code",
   "execution_count": 26,
   "id": "cfe5a6a5",
   "metadata": {},
   "outputs": [
    {
     "data": {
      "text/plain": [
       "['n', 'i', 's']"
      ]
     },
     "execution_count": 26,
     "metadata": {},
     "output_type": "execute_result"
    }
   ],
   "source": [
    "myList[5:8]"
   ]
  },
  {
   "cell_type": "code",
   "execution_count": null,
   "id": "235e8427",
   "metadata": {},
   "outputs": [],
   "source": [
    "# from 1st element to 4th element"
   ]
  },
  {
   "cell_type": "code",
   "execution_count": 27,
   "id": "430f4791",
   "metadata": {},
   "outputs": [
    {
     "data": {
      "text/plain": [
       "['p', 'y', 't']"
      ]
     },
     "execution_count": 27,
     "metadata": {},
     "output_type": "execute_result"
    }
   ],
   "source": [
    "myList[0:3]"
   ]
  },
  {
   "cell_type": "code",
   "execution_count": null,
   "id": "7ceab9ab",
   "metadata": {},
   "outputs": [],
   "source": [
    "# from 8th element to last element"
   ]
  },
  {
   "cell_type": "code",
   "execution_count": 30,
   "id": "4929e8e4",
   "metadata": {},
   "outputs": [
    {
     "data": {
      "text/plain": [
       "['s', 't', 'a']"
      ]
     },
     "execution_count": 30,
     "metadata": {},
     "output_type": "execute_result"
    }
   ],
   "source": [
    "myList[7:]"
   ]
  },
  {
   "cell_type": "code",
   "execution_count": 17,
   "id": "9f1fd035",
   "metadata": {},
   "outputs": [],
   "source": [
    "# from 1st to last elements"
   ]
  },
  {
   "cell_type": "code",
   "execution_count": 31,
   "id": "1c90a10a",
   "metadata": {},
   "outputs": [
    {
     "data": {
      "text/plain": [
       "['p', 'y', 't', 'h', 'o', 'n', 'i', 's', 't', 'a']"
      ]
     },
     "execution_count": 31,
     "metadata": {},
     "output_type": "execute_result"
    }
   ],
   "source": [
    "myList[0:]"
   ]
  },
  {
   "cell_type": "code",
   "execution_count": 19,
   "id": "db2b81bb",
   "metadata": {},
   "outputs": [],
   "source": [
    "# write one example of negative slicing"
   ]
  },
  {
   "cell_type": "code",
   "execution_count": 32,
   "id": "73425a77",
   "metadata": {},
   "outputs": [
    {
     "data": {
      "text/plain": [
       "['p', 'y', 't', 'h', 'o', 'n', 'i']"
      ]
     },
     "execution_count": 32,
     "metadata": {},
     "output_type": "execute_result"
    }
   ],
   "source": [
    "myList[0:-3]"
   ]
  },
  {
   "cell_type": "markdown",
   "id": "b5bb5b8e",
   "metadata": {},
   "source": [
    "### Exercise 1\n",
    "\n",
    "Given the following dictionary:"
   ]
  },
  {
   "cell_type": "code",
   "execution_count": 1,
   "id": "e8031f6c",
   "metadata": {},
   "outputs": [],
   "source": [
    "inventory = {\n",
    "    'gold' : 500,\n",
    "    'pouch' : ['flint', 'twine', 'gemstone'],\n",
    "    'backpack' : ['xylophone','dagger', 'bedroll','bread loaf']\n",
    "}"
   ]
  },
  {
   "cell_type": "markdown",
   "id": "6a943c86",
   "metadata": {},
   "source": [
    "Try to do the followings:\n",
    "\n",
    "- Add a key to inventory called 'pocket'.\n",
    "- Set the value of 'pocket' to be a list consisting of the strings 'seashell', 'strange berry', and 'lint'.\n",
    "- .sort()the items in the list stored under the 'backpack' key.\n",
    "- Then .remove('dagger') from the list of items stored under the 'backpack' key.\n",
    "- Add 50 to the number stored under the 'gold' key."
   ]
  },
  {
   "cell_type": "code",
   "execution_count": null,
   "id": "97e9f7d3",
   "metadata": {},
   "outputs": [],
   "source": []
  }
 ],
 "metadata": {
  "kernelspec": {
   "display_name": "Python 3 (ipykernel)",
   "language": "python",
   "name": "python3"
  },
  "language_info": {
   "codemirror_mode": {
    "name": "ipython",
    "version": 3
   },
   "file_extension": ".py",
   "mimetype": "text/x-python",
   "name": "python",
   "nbconvert_exporter": "python",
   "pygments_lexer": "ipython3",
   "version": "3.9.12"
  }
 },
 "nbformat": 4,
 "nbformat_minor": 5
}
